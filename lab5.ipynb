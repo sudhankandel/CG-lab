{
 "cells": [
  {
   "cell_type": "code",
   "execution_count": null,
   "id": "06ca6be0",
   "metadata": {},
   "outputs": [],
   "source": [
    "import matplotlib.pyplot as plt\n",
    "class ExtremePoint:\n",
    "    vertices_set=[]\n",
    "    def __init__(self):\n",
    "        a=int(input(\"Enter Number of Vertices\"))\n",
    "        for i in range(a):\n",
    "            x,y=input(\"Please Enter X and Y Cordinates\").split(',')\n",
    "            x=float(x)\n",
    "            y=float(y)\n",
    "            self.vertices_set.append([x,y])\n",
    "    def visualization(self):\n",
    "        x=[]\n",
    "        y=[]\n",
    "        for i in range(len(self.vertices_set)):\n",
    "            x.append(self.vertices_set[i][0])\n",
    "            y.append(self.vertices_set[i][1])\n",
    "        plt.scatter(x,y)\n",
    "        plt.show()"
   ]
  },
  {
   "cell_type": "code",
   "execution_count": null,
   "id": "88624e60",
   "metadata": {},
   "outputs": [],
   "source": [
    "abc=ExtremePoint()\n",
    "abc.visualization()"
   ]
  },
  {
   "cell_type": "code",
   "execution_count": null,
   "id": "5b79623a",
   "metadata": {},
   "outputs": [],
   "source": [
    "p=[[1.0, 2.0], [2.0, 3.0], [3.0, 4.0], [4.0, 5.0], [5.0, 6.0], [6.0, 7.0], [7.0, 8.0], [8.0, 9.0], [1.0, 3.0]]"
   ]
  },
  {
   "cell_type": "code",
   "execution_count": null,
   "id": "e09e5d87",
   "metadata": {},
   "outputs": [],
   "source": [
    "x=[]\n",
    "y=[]\n",
    "for i in range(len(p)):\n",
    "    x.append(p[i][0])\n",
    "    y.append(p[i][1])\n",
    "plt.scatter(x,y)\n",
    "plt.show()"
   ]
  },
  {
   "cell_type": "code",
   "execution_count": null,
   "id": "97428e7e",
   "metadata": {},
   "outputs": [],
   "source": [
    "import matplotlib.pyplot as plt\n",
    "class ExtremeEdge:\n",
    "    vertices_set=[]\n",
    "    def __init__(self):\n",
    "        a=int(input(\"Enter Number of Vertices\"))\n",
    "        for i in range(a):\n",
    "            x,y=input(\"Please Enter X and Y Cordinates\").split(',')\n",
    "            x=float(x)\n",
    "            y=float(y)\n",
    "            self.vertices_set.append([x,y])\n",
    "    def visualization(self):\n",
    "        x=[]\n",
    "        y=[]\n",
    "        for i in range(len(self.vertices_set)):\n",
    "            x.append(self.vertices_set[i][0])\n",
    "            y.append(self.vertices_set[i][1])\n",
    "        plt.scatter(x,y)\n",
    "        plt.show()"
   ]
  },
  {
   "cell_type": "code",
   "execution_count": null,
   "id": "60931f03",
   "metadata": {},
   "outputs": [],
   "source": [
    "import matplotlib.pyplot as plt\n",
    "class GrahmScan:\n",
    "    vertices_set=[]\n",
    "    def __init__(self):\n",
    "        a=int(input(\"Enter Number of Vertices\"))\n",
    "        for i in range(a):\n",
    "            x,y=input(\"Please Enter X and Y Cordinates\").split(',')\n",
    "            x=float(x)\n",
    "            y=float(y)\n",
    "            self.vertices_set.append([x,y])\n",
    "    def sorting(self):\n",
    "        min_xy=min(self.vertices_set,key=lambda x:(x[1]))\n",
    "        slope=[]\n",
    "        for i in self.vertices_set:\n",
    "            if i[0]==min_xy[0] and min_xy[1]==i[1]:\n",
    "                slope.append(-1000)\n",
    "                continue\n",
    "            if i[0]==min_xy[0]:\n",
    "                slope.append(60)\n",
    "            else:\n",
    "                s=(min_xy[1]-i[1])/(min_xy[0]-i[0])\n",
    "                slope.append(s)\n",
    "        list1, list2 = zip(*sorted(zip(slope, self.vertices_set)))\n",
    "        return list2\n",
    "    def visualization(self):\n",
    "        x=[]\n",
    "        y=[]\n",
    "        for i in range(len(self.vertices_set)):\n",
    "            x.append(self.vertices_set[i][0])\n",
    "            y.append(self.vertices_set[i][1])\n",
    "        plt.scatter(x,y)\n",
    "        plt.show()"
   ]
  },
  {
   "cell_type": "code",
   "execution_count": null,
   "id": "8cec3af1",
   "metadata": {},
   "outputs": [],
   "source": [
    "ab=GrahmScan()\n",
    "print(ab.sorting())\n",
    "ab.visualization()"
   ]
  },
  {
   "cell_type": "code",
   "execution_count": null,
   "id": "c02f89fe",
   "metadata": {},
   "outputs": [],
   "source": [
    " def turntest(points):\n",
    "        area=(points[1][0]-points[0][0])*(points[2][1]-points[0][1])-(points[2][0]-points[0][0])*(points[1][1]-points[0][1])\n",
    "        if area>0:\n",
    "            return \"Left\"\n",
    "        elif area<0:\n",
    "            return \"Right\"\n",
    "        else:\n",
    "            return \"Colinear\""
   ]
  },
  {
   "cell_type": "code",
   "execution_count": 4,
   "id": "14921bd5",
   "metadata": {},
   "outputs": [
    {
     "name": "stdout",
     "output_type": "stream",
     "text": [
      "[4, 3]\n",
      "[[1, 5], [2, 6], [3, 8], [5, 8], [6, 6], [8, 4], [4, 3]]\n",
      "[-0.6666666666666666, -1.5, -5.0, 5.0, 1.5, 0.25, -1000]\n",
      "([4, 3], [3, 8], [2, 6], [1, 5], [8, 4], [6, 6], [5, 8]) (-1000, -5.0, -1.5, -0.6666666666666666, 0.25, 1.5, 5.0)\n"
     ]
    }
   ],
   "source": [
    "vertices_set=[[1,5],[2,6],[3,8],[5,8],[6,6],[8,4],[4,3]]\n",
    "min_xy=min(vertices_set,key=lambda x:(x[1]))\n",
    "print(min_xy)\n",
    "print(vertices_set)\n",
    "\n",
    "slope=[]\n",
    "\n",
    "for i in vertices_set:\n",
    "    if i[0]==min_xy[0] and min_xy[1]==i[1]:\n",
    "        slope.append(-1000)\n",
    "        continue\n",
    "    if i[0]==min_xy[0]:\n",
    "        slope.append(60)\n",
    "    else:\n",
    "        s=(i[1]-min_xy[1])/(i[0]-min_xy[0])\n",
    "        slope.append(s)\n",
    "print(slope)\n",
    "list1, list2 = zip(*sorted(zip(slope, vertices_set)))\n",
    "print(list2,list1)\n",
    "# stack=[]\n",
    "# stack.append(list2[0])\n",
    "# stack.append(list2[1])\n",
    "# i=2\n",
    "# n=len(vertices_set)\n",
    "# a=len(stack)\n",
    "# while(i<n):\n",
    "#         points=[stack[-2],stack[-1],list2[i]]\n",
    "#         print(stack)\n",
    "#         print(stack[-2],stack[-1],list2[i],turntest(points))\n",
    "#         if turntest(points)==\"Left\":\n",
    "#             stack.append(list2[i])\n",
    "#             i+=1\n",
    "#         else:\n",
    "#             stack.pop()\n",
    "#             points=[stack[-2],stack[-1],list2[i]]\n",
    "#             turn=turntest(points)\n",
    "#             while turn==\"left\":\n",
    "#                 stack.append(list2[i])\n"
   ]
  },
  {
   "cell_type": "code",
   "execution_count": null,
   "id": "6d139960",
   "metadata": {},
   "outputs": [],
   "source": [
    "stack"
   ]
  },
  {
   "cell_type": "code",
   "execution_count": null,
   "id": "cf2b71bc",
   "metadata": {},
   "outputs": [],
   "source": [
    "a=3"
   ]
  },
  {
   "cell_type": "code",
   "execution_count": null,
   "id": "013c017b",
   "metadata": {},
   "outputs": [],
   "source": [
    "stack[-1-1]"
   ]
  },
  {
   "cell_type": "code",
   "execution_count": null,
   "id": "29c24647",
   "metadata": {},
   "outputs": [],
   "source": [
    "stack[-a]"
   ]
  },
  {
   "cell_type": "code",
   "execution_count": null,
   "id": "5817e531",
   "metadata": {},
   "outputs": [],
   "source": []
  }
 ],
 "metadata": {
  "kernelspec": {
   "display_name": "Python 3 (ipykernel)",
   "language": "python",
   "name": "python3"
  },
  "language_info": {
   "codemirror_mode": {
    "name": "ipython",
    "version": 3
   },
   "file_extension": ".py",
   "mimetype": "text/x-python",
   "name": "python",
   "nbconvert_exporter": "python",
   "pygments_lexer": "ipython3",
   "version": "3.9.7"
  }
 },
 "nbformat": 4,
 "nbformat_minor": 5
}

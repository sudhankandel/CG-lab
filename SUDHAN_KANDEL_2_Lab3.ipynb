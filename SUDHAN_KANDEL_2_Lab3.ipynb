{
 "cells": [
  {
   "cell_type": "markdown",
   "id": "6297cc78",
   "metadata": {},
   "source": [
    "# Name: Sudhan Kandel\n",
    "# Section: A\n",
    "# Roll No: 2"
   ]
  },
  {
   "cell_type": "markdown",
   "id": "318f1099",
   "metadata": {},
   "source": [
    "## 1. Write program for proper and improper intersection"
   ]
  },
  {
   "cell_type": "code",
   "execution_count": 1,
   "id": "146d8044",
   "metadata": {},
   "outputs": [
    {
     "name": "stdout",
     "output_type": "stream",
     "text": [
      "Please Enter Line 1's starting point's X-Cordinate and Y-cordinate....1,1\n",
      "Please Enter Line 1's ending point's X-Cordinate and Y-cordinate....3,3\n",
      "Please Enter Line 2's starting point's X-Cordinate and Y-cordinate....4,5\n",
      "Please Enter Line 2's ending point's X-Cordinate and Y-cordinate....56,1\n",
      "\n",
      ".................................\n",
      "Name: Sudhan Kandel \n",
      "Roll No: 2 \n",
      "Section: A\n",
      "\n",
      ".................................\n",
      "Datastructure of Segments is:  [[[1.0, 1.0], [3.0, 3.0]], [[4.0, 5.0], [56.0, 1.0]]]\n",
      "\n",
      ".................................\n",
      "Type of intersect for the given line segment is: \n",
      " Proper Intersection\n",
      "\n",
      ".................................\n"
     ]
    },
    {
     "data": {
      "image/png": "[encoded data removed]",
      "text/plain": [
       "<Figure size 540x252 with 1 Axes>"
      ]
     },
     "metadata": {
      "needs_background": "light"
     },
     "output_type": "display_data"
    }
   ],
   "source": [
    "import matplotlib.pyplot as plt\n",
    "class LineIntersect:\n",
    "    def __init__(self):\n",
    "        self.points=[]\n",
    "        for i,j in enumerate(['Line 1','Line 2']):\n",
    "            for k in ['starting','ending']: \n",
    "                x,y=input(\"Please Enter \"+j+\"'s \"+k+\" point's X-Cordinate and Y-cordinate....\").split(',')\n",
    "                x=float(x)\n",
    "                y=float(y)\n",
    "                if len(self.points)==i:\n",
    "                    self.points.append([[x,y]])\n",
    "                else:\n",
    "                    self.points[i].append([x,y])\n",
    "    def check_intersect(self,a,b,c,d):\n",
    "        abc=((b[0]-a[0])*(c[1]-a[1]))-((c[0]-a[0])*(b[1]-a[1]))\n",
    "        abd=((b[0]-a[0])*(d[1]-a[1]))-((d[0]-a[0])*(b[1]-a[1]))\n",
    "        if (abd<0 and abc>0) or (abd>0 and abc<0):\n",
    "            return 1\n",
    "        else:\n",
    "            return 0\n",
    "    def slope(self,x1,x2,x3,y1,y2,y3):\n",
    "        c = x1 * (y2 - y3) + x2 * (y3 - y1) + x3 * (y1 - y2)\n",
    "        return c\n",
    "    def colinear(self,a ,b,c):\n",
    "        ac=self.slope(a[0],b[0],c[0],a[1],b[1],c[1])\n",
    "        if ac==0:\n",
    "            return 1\n",
    "        else:\n",
    "            return 0\n",
    "    def type_intersect(self):\n",
    "        l1=self.points[0]\n",
    "        l2=self.points[1]\n",
    "        a=l1[0]\n",
    "        b=l1[1]\n",
    "        c=l2[0]\n",
    "        d=l2[1]\n",
    "        result=self.check_intersect(a,b,c,d)\n",
    "        if result==1:\n",
    "            return (\"Proper Intersection\")\n",
    "        else:\n",
    "            if self.colinear(a,b,c)==1:\n",
    "                if a[1]<=c[1]<=b[1] or a[1]>=c[1]>=b[1]:\n",
    "                    return (\"improper Intersection\")\n",
    "                else:\n",
    "                    return (\"Segment are not interset\")\n",
    "            else:\n",
    "                return (\"Line are not interset\")\n",
    "        \n",
    "    def displayinfo(self):\n",
    "        print(\"\\n.................................\")\n",
    "        print(\"Name: Sudhan Kandel\",\"\\nRoll No: 2\",\"\\nSection: A\")\n",
    "        print(\"\\n.................................\")\n",
    "        print(\"Datastructure of Segments is: \",self.points)\n",
    "        print(\"\\n.................................\")\n",
    "        print(\"Type of intersect for the given line segment is: \\n\", self.type_intersect()) \n",
    "        print(\"\\n.................................\")\n",
    "        self.visualization()\n",
    "        \n",
    "    def visualization(self):\n",
    "        plt.rcParams[\"figure.figsize\"] = [7.50, 3.50]\n",
    "        plt.rcParams[\"figure.autolayout\"] = True\n",
    "        l1=self.points[0]\n",
    "        l2=self.points[1]\n",
    "        plt.grid()\n",
    "        plt.plot([l1[0][0],l1[1][0]],[l1[0][1],l1[1][1]], linestyle=\"-\", marker=\"o\", markersize=5, markeredgecolor=\"red\", markerfacecolor=\"green\")\n",
    "        plt.plot([l2[0][0],l2[1][0]],[l2[0][1],l2[1][1]], linestyle=\"-\", marker=\"o\", markersize=5, markeredgecolor=\"red\", markerfacecolor=\"green\")\n",
    "        plt.title(\"Proper and Improper Line Segment Intersect\",fontdict={'fontsize':20})\n",
    "        plt.xlabel(\"X-axis\",fontdict={'fontsize':15})\n",
    "        plt.ylabel(\"Y-axis\",fontdict={'fontsize':15})\n",
    "        plt.savefig('line.png')\n",
    "        plt.show()\n",
    "intersect=LineIntersect()\n",
    "intersect.displayinfo()"
   ]
  },
  {
   "cell_type": "code",
   "execution_count": null,
   "id": "c0d3be2d",
   "metadata": {},
   "outputs": [],
   "source": []
  }
 ],
 "metadata": {
  "kernelspec": {
   "display_name": "Python 3 (ipykernel)",
   "language": "python",
   "name": "python3"
  },
  "language_info": {
   "codemirror_mode": {
    "name": "ipython",
    "version": 3
   },
   "file_extension": ".py",
   "mimetype": "text/x-python",
   "name": "python",
   "nbconvert_exporter": "python",
   "pygments_lexer": "ipython3",
   "version": "3.9.7"
  }
 },
 "nbformat": 4,
 "nbformat_minor": 5
}

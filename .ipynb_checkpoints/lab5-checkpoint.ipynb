{
 "cells": [
  {
   "cell_type": "code",
   "execution_count": 1,
   "id": "06ca6be0",
   "metadata": {},
   "outputs": [],
   "source": [
    "import matplotlib.pyplot as plt\n",
    "class Node:    \n",
    "    def __init__(self,data):    \n",
    "        self.data = data;    \n",
    "        self.previous = None;    \n",
    "        self.next = None;\n",
    "        \n",
    "class DoublyLinkedList:       \n",
    "    def __init__(self):    \n",
    "        self.head = None;    \n",
    "        self.tail = None;      \n",
    "    def addNode(self, data):      \n",
    "        newNode = Node(data);     \n",
    "        if(self.head == None):      \n",
    "            self.head = self.tail = newNode;        \n",
    "            self.head.previous = None;    \n",
    "            self.tail.next = None;    \n",
    "        else:      \n",
    "            self.tail.next = newNode;       \n",
    "            newNode.previous = self.tail;      \n",
    "            self.tail = newNode;    \n",
    "            self.tail.next = None;  \n",
    "class ExtremePoint(DoublyLinkedList):\n",
    "    vertices_set=[]\n",
    "    def __init__(self):\n",
    "        super(ExtremePoint, self).__init__()\n",
    "        a=int(input(\"Enter Number of Vertices\"))\n",
    "        for i in range(a):\n",
    "            x,y=input(\"Please Enter X and Y Cordinates\").split(',')\n",
    "            x=float(x)\n",
    "            y=float(y)\n",
    "            self.vertices_set.append([x,y])\n",
    "    def pointelimination(self):\n",
    "        for i in range((len(self.vertices_set))-1):\n",
    "            for j in range(len(self.vertices_set)-2):\n",
    "                if j!= i:\n",
    "                    for k in range((len(self.vertices_set))-3):\n",
    "                        if k!=i and k!=j:\n",
    "                            for l in range((len(self.vertices_set))-4):\n",
    "                                if l!=i and l!=j and l!=k:\n",
    "                                    print(i,j,k,l)\n",
    "                                    print(self.vertices_set[i],self.vertices_set[j],self.vertices_set[k])\n",
    "    #                                 self.addNode(self.vertices_set[i])\n",
    "    #                                 self.addNode(self.vertices_set[j])\n",
    "    #                                 self.addNode(self.vertices_set[k])\n",
    "    #                                 cur=self.head\n",
    "    #                                 while cur:\n",
    "    #                                         a=cur.data\n",
    "    #                                         cur=cur.next\n",
    "    #                                         if cur==None:\n",
    "    #                                             cur1=self.head\n",
    "    #                                             while cur1:\n",
    "    #                                                 b=cur1.data\n",
    "    #                                                 break\n",
    "    #                                         else:\n",
    "    #                                             b=cur.data\n",
    "    #                                         points=[a,b,self.vertices_set[k]]\n",
    "    #                                         print(points)   \n",
    "    def visualization(self):\n",
    "        x=[]\n",
    "        y=[]\n",
    "        for i in range(len(self.vertices_set)):\n",
    "            x.append(self.vertices_set[i][0])\n",
    "            y.append(self.vertices_set[i][1])\n",
    "        plt.scatter(x,y)\n",
    "        plt.show()"
   ]
  },
  {
   "cell_type": "code",
   "execution_count": 3,
   "id": "88624e60",
   "metadata": {},
   "outputs": [
    {
     "name": "stdout",
     "output_type": "stream",
     "text": [
      "Enter Number of Vertices2\n",
      "Please Enter X and Y Cordinates1,0\n",
      "Please Enter X and Y Cordinates2,0\n",
      "hello\n"
     ]
    },
    {
     "data": {
      "image/png": "[encoded data removed]",
      "text/plain": [
       "<Figure size 432x288 with 1 Axes>"
      ]
     },
     "metadata": {
      "needs_background": "light"
     },
     "output_type": "display_data"
    }
   ],
   "source": [
    "abc=ExtremePoint()\n",
    "abc.pointelimination()\n",
    "abc.visualization()"
   ]
  },
  {
   "cell_type": "code",
   "execution_count": null,
   "id": "3a06259f",
   "metadata": {},
   "outputs": [],
   "source": [
    "def turntest(points):\n",
    "    area=(points[1][0]-points[0][0])*(points[2][1]-points[0][1])-(points[2][0]-points[0][0])*(points[1][1]-points[0][1])\n",
    "    if area>0:\n",
    "        return \"Left\"\n",
    "    elif area<0:\n",
    "        return \"Right\"\n",
    "    else:\n",
    "        return \"Colinear\""
   ]
  },
  {
   "cell_type": "code",
   "execution_count": null,
   "id": "5b79623a",
   "metadata": {},
   "outputs": [],
   "source": [
    "p=[[1.0, 5.0], [2.0, 6.0], [3.0, 8.0], [5.0, 8.0], [6.0, 6.0], [8.0, 4.0], [4.0, 2.0], [1.0, 0.0]]\n",
    "n=len(p)\n",
    "polygon=[]\n",
    "for i in range(n-1):\n",
    "    for j in range(n-2):\n",
    "        if j!= i:\n",
    "            for k in range(n-3):\n",
    "                if k!=i and k!=j:\n",
    "                    for l in range(n-4):\n",
    "                        if l!=i and l!=j and l!=k:\n",
    "                            print(p[l])\n",
    "                            print(tup[i],p[j],p[k])\n",
    "                            polygon.append([p[i],p[j],p[k]])\n"
   ]
  },
  {
   "cell_type": "code",
   "execution_count": null,
   "id": "e09e5d87",
   "metadata": {},
   "outputs": [],
   "source": [
    "x=[]\n",
    "y=[]\n",
    "for i in range(len(p)):\n",
    "    x.append(p[i][0])\n",
    "    y.append(p[i][1])\n",
    "plt.\n",
    "plt.scatter(x,y)\n",
    "plt.show()"
   ]
  },
  {
   "cell_type": "code",
   "execution_count": null,
   "id": "97428e7e",
   "metadata": {},
   "outputs": [],
   "source": [
    "import matplotlib.pyplot as plt\n",
    "\n",
    "class ExtremeEdge:\n",
    "    vertices_set=[]\n",
    "    def __init__(self):\n",
    "        a=int(input(\"Enter Number of Vertices\"))\n",
    "        for i in range(a):\n",
    "            x,y=input(\"Please Enter X and Y Cordinates\").split(',')\n",
    "            x=float(x)\n",
    "            y=float(y)\n",
    "            self.vertices_set.append([x,y])\n",
    "    def visualization(self):\n",
    "        x=[]\n",
    "        y=[]\n",
    "        for i in range(len(self.vertices_set)):\n",
    "            x.append(self.vertices_set[i][0])\n",
    "            y.append(self.vertices_set[i][1])\n",
    "        plt.scatter(x,y)\n",
    "        plt.show()"
   ]
  },
  {
   "cell_type": "code",
   "execution_count": null,
   "id": "60931f03",
   "metadata": {},
   "outputs": [],
   "source": [
    "import matplotlib.pyplot as plt\n",
    "import numpy as np\n",
    "class GrahmScan:\n",
    "    vertices_set=[]\n",
    "    def __init__(self):\n",
    "        a=int(input(\"Enter Number of Vertices\"))\n",
    "        for i in range(a):\n",
    "            x,y=input(\"Please Enter X and Y Cordinates\").split(',')\n",
    "            x=float(x)\n",
    "            y=float(y)\n",
    "            self.vertices_set.append([x,y])\n",
    "    def sorting(self):\n",
    "        min_xy=min(self.vertices_set,key=lambda x:(x[1]))\n",
    "        angle=[]\n",
    "        for i in self.vertices_set:\n",
    "            ag=np.degrees(np.arctan2(i[1]-min_xy[1], i[0]-min_xy[0]))\n",
    "            angle.append(ag)\n",
    "        list1, list2 = zip(*sorted(zip(angle, self.vertices_set)))\n",
    "        return list2\n",
    "    def turntest(self,points):\n",
    "        area=(points[1][0]-points[0][0])*(points[2][1]-points[0][1])-(points[2][0]-points[0][0])*(points[1][1]-points[0][1])\n",
    "        if area>0:\n",
    "            return \"Left\"\n",
    "        elif area<0:\n",
    "            return \"Right\"\n",
    "        else:\n",
    "            return \"Colinear\"\n",
    "    def extrem(self):\n",
    "        stack=[]\n",
    "        list2=self.sorting()\n",
    "        stack.append(list2[0])\n",
    "        stack.append(list2[1])\n",
    "        i=2\n",
    "        n=len(self.vertices_set)\n",
    "        a=len(stack)\n",
    "        while(i<n):\n",
    "                points=[stack[-2],stack[-1],list2[i]]\n",
    "                if self.turntest(points)==\"Left\":\n",
    "                    stack.append(list2[i])\n",
    "                    i+=1\n",
    "                else:\n",
    "                    stack.pop()\n",
    "                    points=[stack[-2],stack[-1],list2[i]]\n",
    "                    turn=self.turntest(points)\n",
    "                    while turn==\"left\":\n",
    "                        stack.append(list2[i])\n",
    "        return stack\n",
    "    def dislpay(self):\n",
    "        print(\"\\n.................................\")\n",
    "        print(\"Name: Sudhan Kandel\",\"\\nRoll No: 2\",\"\\nSection: A\")\n",
    "        print(\"\\n.................................\")\n",
    "        print(\"Given random points of the polygon is:\\n\",self.vertices_set)\n",
    "        print(\"\\n.................................\")\n",
    "        print(\"Sorted vertices are:\\n\",self.sorting())\n",
    "        print(\"\\n.................................\")\n",
    "        print(\"Extreme points are:\\n\",self.extrem())\n",
    "    def visualization(self):\n",
    "        x=[]\n",
    "        y=[]\n",
    "        points=self.extrem()\n",
    "        a=[]\n",
    "        b=[]\n",
    "        for i in range(len(self.vertices_set)):\n",
    "            x.append(self.vertices_set[i][0])\n",
    "            y.append(self.vertices_set[i][1])\n",
    "        plt.title(\"Random points\",fontdict={'fontsize':20})\n",
    "        plt.xlabel(\"X-axis\")\n",
    "        plt.ylabel(\"Y-axis\")\n",
    "        plt.scatter(x,y)\n",
    "        plt.show()\n",
    "        for i in points:\n",
    "            a.append(i[0])\n",
    "            b.append(i[1])\n",
    "        a.append(a[0])\n",
    "        b.append(b[0])\n",
    "        plt.title(\"Extreme Points\",fontdict={'fontsize':20})\n",
    "        plt.xlabel(\"X-axis\")\n",
    "        plt.ylabel(\"Y-axis\")\n",
    "        plt.scatter(a,b)\n",
    "        plt.show()\n",
    "        plt.title(\"Convex-Hall\",fontdict={'fontsize':20})\n",
    "        plt.xlabel(\"X-axis\")\n",
    "        plt.ylabel(\"Y-axis\")\n",
    "        plt.scatter(x,y)\n",
    "        plt.plot(a,b)\n",
    "        plt.show()"
   ]
  },
  {
   "cell_type": "code",
   "execution_count": null,
   "id": "8cec3af1",
   "metadata": {},
   "outputs": [],
   "source": [
    "ab=GrahmScan()\n",
    "ab.dislpay()\n",
    "ab.visualization()"
   ]
  },
  {
   "cell_type": "code",
   "execution_count": null,
   "id": "ba20f181",
   "metadata": {},
   "outputs": [],
   "source": [
    "# points=[[1.0, 0.0], [8.0, 4.0], [5.0, 8.0], [3.0, 8.0], [1.0, 5.0]]\n",
    "x=[]\n",
    "y=[]\n",
    "for i in points:\n",
    "    x.append(i[0])\n",
    "    y.append(i[1])\n",
    "x.append(x[0])\n",
    "y.append(y[0])\n",
    "plt.plot(x,y)"
   ]
  },
  {
   "cell_type": "code",
   "execution_count": null,
   "id": "ce4294e4",
   "metadata": {},
   "outputs": [],
   "source": [
    "x"
   ]
  },
  {
   "cell_type": "code",
   "execution_count": null,
   "id": "c02f89fe",
   "metadata": {},
   "outputs": [],
   "source": [
    " def turntest(points):\n",
    "        area=(points[1][0]-points[0][0])*(points[2][1]-points[0][1])-(points[2][0]-points[0][0])*(points[1][1]-points[0][1])\n",
    "        if area>0:\n",
    "            return \"Left\"\n",
    "        elif area<0:\n",
    "            return \"Right\"\n",
    "        else:\n",
    "            return \"Colinear\""
   ]
  },
  {
   "cell_type": "code",
   "execution_count": null,
   "id": "14921bd5",
   "metadata": {},
   "outputs": [],
   "source": [
    "vertices_set=[[1,5],[2,6],[3,8],[5,8],[6,6],[8,4],[4,2],[1,0]]\n",
    "# vertices_set=[[2,0],[4,4],[1,4],[4,1],[2,3],[1,1]]\n",
    "min_xy=min(vertices_set,key=lambda x:(x[1]))\n",
    "\n",
    "angle=[]\n",
    "\n",
    "for i in vertices_set:\n",
    "    ag=np.degrees(np.arctan2(i[1]-min_xy[1], i[0]-min_xy[0]))\n",
    "    angle.append(ag)\n",
    "list1, list2 = zip(*sorted(zip(angle, vertices_set)))\n",
    "print(list2,list1)\n",
    "stack=[]\n",
    "stack.append(list2[0])\n",
    "stack.append(list2[1])\n",
    "i=2\n",
    "n=len(vertices_set)\n",
    "a=len(stack)\n",
    "while(i<n):\n",
    "        points=[stack[-2],stack[-1],list2[i]]\n",
    "        print(stack)\n",
    "        print(stack[-2],stack[-1],list2[i],turntest(points))\n",
    "        if turntest(points)==\"Left\":\n",
    "            stack.append(list2[i])\n",
    "            i+=1\n",
    "        else:\n",
    "            stack.pop()\n",
    "            points=[stack[-2],stack[-1],list2[i]]\n",
    "            turn=turntest(points)\n",
    "            while turn==\"left\":\n",
    "                stack.append(list2[i])\n"
   ]
  },
  {
   "cell_type": "code",
   "execution_count": null,
   "id": "6d139960",
   "metadata": {},
   "outputs": [],
   "source": [
    "stack"
   ]
  },
  {
   "cell_type": "code",
   "execution_count": null,
   "id": "cf2b71bc",
   "metadata": {},
   "outputs": [],
   "source": [
    "a=3"
   ]
  },
  {
   "cell_type": "code",
   "execution_count": null,
   "id": "013c017b",
   "metadata": {},
   "outputs": [],
   "source": [
    "stack[-1-1]"
   ]
  },
  {
   "cell_type": "code",
   "execution_count": null,
   "id": "29c24647",
   "metadata": {},
   "outputs": [],
   "source": [
    "import numpy as np"
   ]
  },
  {
   "cell_type": "code",
   "execution_count": null,
   "id": "5817e531",
   "metadata": {},
   "outputs": [],
   "source": [
    "angle = np.rad2deg(np.arctan2(0 -4, 2 - 1))\n",
    "angle"
   ]
  },
  {
   "cell_type": "code",
   "execution_count": null,
   "id": "43f40fd4",
   "metadata": {},
   "outputs": [],
   "source": [
    "angle % "
   ]
  },
  {
   "cell_type": "code",
   "execution_count": null,
   "id": "2786e547",
   "metadata": {},
   "outputs": [],
   "source": [
    "np.degrees(np.arctan2(-3-0, 1-2))"
   ]
  },
  {
   "cell_type": "code",
   "execution_count": null,
   "id": "1afb9e2f",
   "metadata": {},
   "outputs": [],
   "source": []
  }
 ],
 "metadata": {
  "kernelspec": {
   "display_name": "Python 3 (ipykernel)",
   "language": "python",
   "name": "python3"
  },
  "language_info": {
   "codemirror_mode": {
    "name": "ipython",
    "version": 3
   },
   "file_extension": ".py",
   "mimetype": "text/x-python",
   "name": "python",
   "nbconvert_exporter": "python",
   "pygments_lexer": "ipython3",
   "version": "3.9.7"
  }
 },
 "nbformat": 4,
 "nbformat_minor": 5
}

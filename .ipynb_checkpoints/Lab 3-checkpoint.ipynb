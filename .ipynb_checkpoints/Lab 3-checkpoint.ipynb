{
 "cells": [
  {
   "cell_type": "code",
   "execution_count": 37,
   "id": "146d8044",
   "metadata": {},
   "outputs": [
    {
     "name": "stdout",
     "output_type": "stream",
     "text": [
      "Please Enter Line 1's starting point's X-Cordinate and Y-cordinate....1 1\n",
      "Please Enter Line 1's ending point's X-Cordinate and Y-cordinate....3 1\n",
      "Please Enter Line 2's starting point's X-Cordinate and Y-cordinate....4 1\n",
      "Please Enter Line 2's ending point's X-Cordinate and Y-cordinate....4 4\n",
      "0 6\n",
      "0\n",
      "improper Intersection\n"
     ]
    },
    {
     "data": {
      "image/png": "[encoded data removed]",
      "text/plain": [
       "<Figure size 540x252 with 1 Axes>"
      ]
     },
     "metadata": {
      "needs_background": "light"
     },
     "output_type": "display_data"
    },
    {
     "name": "stdout",
     "output_type": "stream",
     "text": [
      "[[[1, 1], [3, 1]], [[4, 1], [4, 4]]]\n"
     ]
    }
   ],
   "source": [
    "import matplotlib.pyplot as plt\n",
    "class LineIntersect:\n",
    "    def __init__(self):\n",
    "        self.points=[]\n",
    "        for i,j in enumerate(['Line 1','Line 2']):\n",
    "            for k in ['starting','ending']: \n",
    "                x,y=input(\"Please Enter \"+j+\"'s \"+k+\" point's X-Cordinate and Y-cordinate....\").split()\n",
    "                x=int(x)\n",
    "                y=int(y)\n",
    "                if len(self.points)==i:\n",
    "                    self.points.append([[x,y]])\n",
    "                else:\n",
    "                    self.points[i].append([x,y])\n",
    "    def check_intersect(self,a,b,c,d):\n",
    "        abc=((b[0]-a[0])*(c[1]-a[1]))-((c[0]-a[0])*(b[1]-a[1]))\n",
    "        abd=((b[0]-a[0])*(d[1]-a[1]))-((d[0]-a[0])*(b[1]-a[1]))\n",
    "        print(abc,abd)\n",
    "        if (abd<0 and abc>0) or (abd>0 and abc<0):\n",
    "            return 1\n",
    "        else:\n",
    "            return 0\n",
    "    def slope(self,x1,x2,x3,y1,y2,y3):\n",
    "        c = x1 * (y2 - y3) + x2 * (y3 - y1) + x3 * (y1 - y2)\n",
    "        return c\n",
    "    def colinear(self,a ,b,c):\n",
    "        ac=slope(a[0],b[0],c[0],a[1],b[1],c[1])\n",
    "        if ac==0:\n",
    "            return 1\n",
    "        else:\n",
    "            return 0\n",
    "    def type_intersect(self):\n",
    "        l1=self.points[0]\n",
    "        l2=self.points[1]\n",
    "        a=l1[0]\n",
    "        b=l1[1]\n",
    "        c=l2[0]\n",
    "        d=l2[1]\n",
    "        result=self.check_intersect(a,b,c,d)\n",
    "        print(result)\n",
    "        if result==1:\n",
    "            print(\"Proper Intersection\")\n",
    "        else:\n",
    "            if self.colinear(a,b,c)==1:\n",
    "                if a[1]<=c[1]<=b[1] or a[1]>=c[1]>=b[1]:\n",
    "                    print(\"improper Intersection\")\n",
    "                else:\n",
    "                    print(\"Segment are not interset\")\n",
    "            else:\n",
    "                print(\"Line are not interset\")\n",
    "\n",
    "    def displayinfo(self):\n",
    "        print(self.points)\n",
    "    def visualization(self):\n",
    "        plt.rcParams[\"figure.figsize\"] = [7.50, 3.50]\n",
    "        plt.rcParams[\"figure.autolayout\"] = True\n",
    "        l1=self.points[0]\n",
    "        l2=self.points[1]\n",
    "        plt.grid()\n",
    "        plt.plot([l1[0][0],l1[1][0]],[l1[0][1],l1[1][1]], linestyle=\"-\", marker=\"o\", markersize=5, markeredgecolor=\"red\", markerfacecolor=\"green\")\n",
    "        plt.plot([l2[0][0],l2[1][0]],[l2[0][1],l2[1][1]], linestyle=\"-\", marker=\"o\", markersize=5, markeredgecolor=\"red\", markerfacecolor=\"green\")\n",
    "#         plt.text(l1[0][0],l1[0][1], \"Line1\")\n",
    "#         plt.text(l2[0][0],l2[0][1], \"Line2\")\n",
    "        plt.title(\"Testing Proper and Improper segment intersect\",fontdict={'fontsize':20})\n",
    "        plt.xlabel(\"X-axis\",fontdict={'fontsize':15})\n",
    "        plt.ylabel(\"Y-axis\",fontdict={'fontsize':15})\n",
    "        plt.savefig('line.png')\n",
    "        plt.show()\n",
    "intersect=LineIntersect()\n",
    "intersect.type_intersect()\n",
    "intersect.visualization()\n",
    "intersect.displayinfo()"
   ]
  },
  {
   "cell_type": "code",
   "execution_count": null,
   "id": "b91cd165",
   "metadata": {},
   "outputs": [],
   "source": [
    " points=[[[2, 2], [4,2]], [[3,2], [7,4]]]"
   ]
  },
  {
   "cell_type": "code",
   "execution_count": 19,
   "id": "6986089d",
   "metadata": {},
   "outputs": [],
   "source": [
    "a=points[0][0]\n",
    "b=points[0][1]\n",
    "c=points[1][0]\n",
    "d=points[1][1]"
   ]
  },
  {
   "cell_type": "code",
   "execution_count": 20,
   "id": "19da72c8",
   "metadata": {},
   "outputs": [],
   "source": [
    "abc=((b[0]-a[0])*(c[1]-a[1]))-((c[0]-a[0])*(b[1]-a[1]))\n",
    "abd=((b[0]-a[0])*(d[1]-a[1]))-((d[0]-a[0])*(b[1]-a[1]))"
   ]
  },
  {
   "cell_type": "code",
   "execution_count": 21,
   "id": "3278538e",
   "metadata": {},
   "outputs": [
    {
     "name": "stdout",
     "output_type": "stream",
     "text": [
      "0\n"
     ]
    }
   ],
   "source": [
    "def slope(x1,x2,x3,y1,y2,y3):\n",
    "    c = x1 * (y2 - y3) + x2 * (y3 - y1) + x3 * (y1 - y2)\n",
    "    \n",
    "    return c\n",
    "ac=slope(a[0],b[0],c[0],a[1],b[1],c[1])\n",
    "print(ac)"
   ]
  },
  {
   "cell_type": "code",
   "execution_count": 9,
   "id": "01918ece",
   "metadata": {},
   "outputs": [
    {
     "ename": "TypeError",
     "evalue": "slope() missing 2 required positional arguments: 'y2' and 'y3'",
     "output_type": "error",
     "traceback": [
      "\u001b[0;31m---------------------------------------------------------------------------\u001b[0m",
      "\u001b[0;31mTypeError\u001b[0m                                 Traceback (most recent call last)",
      "\u001b[0;32m/var/folders/dd/21_xynmd0yb0fq9p3j2y1_wm0000gn/T/ipykernel_862/3914588835.py\u001b[0m in \u001b[0;36m<module>\u001b[0;34m\u001b[0m\n\u001b[1;32m      3\u001b[0m \u001b[0;32melse\u001b[0m\u001b[0;34m:\u001b[0m\u001b[0;34m\u001b[0m\u001b[0;34m\u001b[0m\u001b[0m\n\u001b[1;32m      4\u001b[0m     \u001b[0mac\u001b[0m\u001b[0;34m=\u001b[0m\u001b[0mslope\u001b[0m\u001b[0;34m(\u001b[0m\u001b[0ma\u001b[0m\u001b[0;34m[\u001b[0m\u001b[0;36m0\u001b[0m\u001b[0;34m]\u001b[0m\u001b[0;34m,\u001b[0m\u001b[0mb\u001b[0m\u001b[0;34m[\u001b[0m\u001b[0;36m0\u001b[0m\u001b[0;34m]\u001b[0m\u001b[0;34m,\u001b[0m\u001b[0mc\u001b[0m\u001b[0;34m[\u001b[0m\u001b[0;36m0\u001b[0m\u001b[0;34m]\u001b[0m\u001b[0;34m,\u001b[0m\u001b[0ma\u001b[0m\u001b[0;34m[\u001b[0m\u001b[0;36m1\u001b[0m\u001b[0;34m]\u001b[0m\u001b[0;34m,\u001b[0m\u001b[0mb\u001b[0m\u001b[0;34m[\u001b[0m\u001b[0;36m1\u001b[0m\u001b[0;34m]\u001b[0m\u001b[0;34m,\u001b[0m\u001b[0mc\u001b[0m\u001b[0;34m[\u001b[0m\u001b[0;36m1\u001b[0m\u001b[0;34m]\u001b[0m\u001b[0;34m)\u001b[0m\u001b[0;34m\u001b[0m\u001b[0;34m\u001b[0m\u001b[0m\n\u001b[0;32m----> 5\u001b[0;31m     \u001b[0mcb\u001b[0m\u001b[0;34m=\u001b[0m\u001b[0mslope\u001b[0m\u001b[0;34m(\u001b[0m\u001b[0mc\u001b[0m\u001b[0;34m[\u001b[0m\u001b[0;36m0\u001b[0m\u001b[0;34m]\u001b[0m\u001b[0;34m,\u001b[0m\u001b[0mb\u001b[0m\u001b[0;34m[\u001b[0m\u001b[0;36m0\u001b[0m\u001b[0;34m]\u001b[0m\u001b[0;34m,\u001b[0m\u001b[0mc\u001b[0m\u001b[0;34m[\u001b[0m\u001b[0;36m1\u001b[0m\u001b[0;34m]\u001b[0m\u001b[0;34m,\u001b[0m\u001b[0mb\u001b[0m\u001b[0;34m[\u001b[0m\u001b[0;36m1\u001b[0m\u001b[0;34m]\u001b[0m\u001b[0;34m)\u001b[0m\u001b[0;34m\u001b[0m\u001b[0;34m\u001b[0m\u001b[0m\n\u001b[0m\u001b[1;32m      6\u001b[0m     \u001b[0mprint\u001b[0m\u001b[0;34m(\u001b[0m\u001b[0mac\u001b[0m\u001b[0;34m,\u001b[0m\u001b[0mcb\u001b[0m\u001b[0;34m)\u001b[0m\u001b[0;34m\u001b[0m\u001b[0;34m\u001b[0m\u001b[0m\n\u001b[1;32m      7\u001b[0m     \u001b[0;32mif\u001b[0m \u001b[0mac\u001b[0m\u001b[0;34m==\u001b[0m\u001b[0mcb\u001b[0m\u001b[0;34m:\u001b[0m\u001b[0;34m\u001b[0m\u001b[0;34m\u001b[0m\u001b[0m\n",
      "\u001b[0;31mTypeError\u001b[0m: slope() missing 2 required positional arguments: 'y2' and 'y3'"
     ]
    }
   ],
   "source": [
    "if abd<0 and abc>0:\n",
    "    print(\"liner are intersect\")\n",
    "else:\n",
    "    ac=slope(a[0],b[0],c[0],a[1],b[1],c[1])\n",
    "    cb=slope(c[0],b[0],c[1],b[1])\n",
    "    print(ac,cb)\n",
    "    if ac==cb:\n",
    "        if a[1]<=c[1]<=b[1] or a[1]>=c[1]>=b[1]:\n",
    "            print('abc')\n",
    "        else:\n",
    "            print('DEF')\n",
    "    else: \n",
    "        print(\"Line are not interset\")\n",
    "    "
   ]
  },
  {
   "cell_type": "code",
   "execution_count": null,
   "id": "c0d3be2d",
   "metadata": {},
   "outputs": [],
   "source": []
  }
 ],
 "metadata": {
  "kernelspec": {
   "display_name": "Python 3 (ipykernel)",
   "language": "python",
   "name": "python3"
  },
  "language_info": {
   "codemirror_mode": {
    "name": "ipython",
    "version": 3
   },
   "file_extension": ".py",
   "mimetype": "text/x-python",
   "name": "python",
   "nbconvert_exporter": "python",
   "pygments_lexer": "ipython3",
   "version": "3.9.7"
  }
 },
 "nbformat": 4,
 "nbformat_minor": 5
}

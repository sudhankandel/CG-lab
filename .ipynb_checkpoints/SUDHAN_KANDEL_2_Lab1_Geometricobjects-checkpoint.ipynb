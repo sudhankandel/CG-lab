{
 "cells": [
  {
   "cell_type": "markdown",
   "id": "423f5d3f",
   "metadata": {},
   "source": [
    "## Point"
   ]
  },
  {
   "cell_type": "code",
   "execution_count": 1,
   "id": "f39735bb",
   "metadata": {},
   "outputs": [
    {
     "name": "stdout",
     "output_type": "stream",
     "text": [
      "Please Enter X-Cordinate....3\n",
      "Please Enter Y-Cordinate....5\n",
      "\n",
      ".................................\n",
      "Name: Sudhan Kandel \n",
      "Roll No: 2 \n",
      "Section: A\n",
      "\n",
      ".................................\n",
      "data structure for given point is: [3, 5]\n"
     ]
    },
    {
     "data": {
      "image/png": "[encoded data removed]",
      "text/plain": [
       "<Figure size 432x288 with 1 Axes>"
      ]
     },
     "metadata": {
      "needs_background": "light"
     },
     "output_type": "display_data"
    }
   ],
   "source": [
    "from matplotlib import pyplot as plt\n",
    "class Point:\n",
    "    @classmethod\n",
    "    def input_point(self):\n",
    "        x=int(input(\"Please Enter X-Cordinate....\"))\n",
    "        y=int(input(\"Please Enter Y-Cordinate....\"))\n",
    "        self.displayinfo(x,y)\n",
    "      \n",
    "    @classmethod\n",
    "    def displayinfo(self,x,y):\n",
    "        print(\"\\n.................................\")\n",
    "        print(\"Name: Sudhan Kandel\",\"\\nRoll No: 2\",\"\\nSection: A\")\n",
    "        print(\"\\n.................................\")\n",
    "        print(\"data structure for given point is:\",[x,y])\n",
    "        self.visualization(x,y)\n",
    "    @classmethod\n",
    "    def visualization(self,x,y):\n",
    "        plt.title(\"Point\",fontdict={'fontsize':20})\n",
    "        plt.xlabel(\"X-axis\",fontdict={'fontsize':15})\n",
    "        plt.ylabel(\"Y-axis\",fontdict={'fontsize':15})\n",
    "        plt.rcParams[\"figure.figsize\"] = [7.00,5.00]\n",
    "        plt.rcParams[\"figure.autolayout\"] = True\n",
    "        plt.xlim(0,x+2)\n",
    "        plt.ylim(0,y+2)\n",
    "        plt.grid()\n",
    "        plt.plot(x, y, marker=\"o\", markersize=20, markeredgecolor=\"red\", markerfacecolor=\"green\")\n",
    "        plt.savefig(\"Point.png\")\n",
    "        plt.show()\n",
    "Point.input_point()   "
   ]
  },
  {
   "cell_type": "markdown",
   "id": "c3787233",
   "metadata": {},
   "source": [
    "## Line Segment"
   ]
  },
  {
   "cell_type": "code",
   "execution_count": 3,
   "id": "0769d107",
   "metadata": {},
   "outputs": [
    {
     "name": "stdout",
     "output_type": "stream",
     "text": [
      "Please Enter starting point's X-Cordinate and Y-cordinate....2,3\n",
      "Please Enter ending point's X-Cordinate and Y-cordinate....6,7\n",
      "\n",
      ".................................\n",
      "Name: Sudhan Kandel \n",
      "Roll No: 2 \n",
      "Section: A\n",
      "\n",
      ".................................\n",
      "Starting point: \n",
      "X-Cordinate:  2 \n",
      "Y-Cordinate:  3\n",
      ".................................\n",
      "Ending point: \n",
      "X-Cordinate:  6 \n",
      "Y-Cordinate:  7\n",
      ".................................\n",
      "\n",
      "data structure for given point is: [[2, 3], [6, 7]]\n"
     ]
    },
    {
     "data": {
      "image/png": "[encoded data removed]",
      "text/plain": [
       "<Figure size 540x252 with 1 Axes>"
      ]
     },
     "metadata": {
      "needs_background": "light"
     },
     "output_type": "display_data"
    }
   ],
   "source": [
    "from matplotlib import pyplot as plt\n",
    "class Linesegment:\n",
    "    @classmethod\n",
    "    def input_point(self):\n",
    "        points=[]\n",
    "        for i in ['starting','ending']:\n",
    "            x,y=input(\"Please Enter \"+i+\" point's X-Cordinate and Y-cordinate....\").split(',')\n",
    "            x=int(x)\n",
    "            y=int(y)\n",
    "            points.append([x,y])\n",
    "        self.displayinfo(points)\n",
    "    @classmethod\n",
    "    def displayinfo(self,points):\n",
    "        print(\"\\n.................................\")\n",
    "        print(\"Name: Sudhan Kandel\",\"\\nRoll No: 2\",\"\\nSection: A\")\n",
    "        print(\"\\n.................................\")\n",
    "        print(\"Starting point:\", \"\\nX-Cordinate: \",points[0][0],\"\\nY-Cordinate: \",points[0][1])\n",
    "        print(\".................................\")\n",
    "        print(\"Ending point:\", \"\\nX-Cordinate: \",points[1][0],\"\\nY-Cordinate: \",points[1][1])\n",
    "        print(\".................................\")\n",
    "        print(\"\\ndata structure for given point is:\",points)\n",
    "        self.visualization(points)\n",
    "        \n",
    "    @classmethod\n",
    "    def visualization(self,point):\n",
    "        plt.rcParams[\"figure.figsize\"] = [7.50, 3.50]\n",
    "        plt.rcParams[\"figure.autolayout\"] = True\n",
    "        point1=point[0]\n",
    "        point2=point[1]\n",
    "        x_values = [point1[0], point2[0]]\n",
    "        y_values = [point1[1], point2[1]]\n",
    "        plt.grid()\n",
    "        plt.xlim(0,max(x_values)+1)\n",
    "        plt.ylim(0,max(y_values)+1)\n",
    "        plt.plot(x_values, y_values, linestyle=\"-\", marker=\"o\", markersize=5, markeredgecolor=\"red\", markerfacecolor=\"green\")\n",
    "        plt.text(point1[0]-0.015, point1[1]+0.25, \"Start\")\n",
    "        plt.text(point2[0]-0.050, point2[1]-0.25, \"End\")\n",
    "        plt.title(\"Line Segment\",fontdict={'fontsize':20})\n",
    "        plt.xlabel(\"X-axis\",fontdict={'fontsize':15})\n",
    "        plt.ylabel(\"Y-axis\",fontdict={'fontsize':15})\n",
    "        plt.savefig('linesegment.png')\n",
    "        plt.show()  \n",
    "Linesegment.input_point() "
   ]
  },
  {
   "cell_type": "markdown",
   "id": "be990fca",
   "metadata": {},
   "source": [
    "### Ray"
   ]
  },
  {
   "cell_type": "code",
   "execution_count": 6,
   "id": "9a86ffbd",
   "metadata": {},
   "outputs": [
    {
     "name": "stdout",
     "output_type": "stream",
     "text": [
      "Please Enter starting point's X-Cordinate and Y-cordinate....2,3\n",
      "Please Enter ending point's X-Cordinate and Y-cordinate....4,5\n",
      "Please Enter infinity point's X-Cordinate and Y-cordinate....6,8\n",
      "\n",
      ".................................\n",
      "Points are not cloinear please enter points again....\n",
      "\n",
      ".................................\n",
      "Please Enter starting point's X-Cordinate and Y-cordinate....2,3\n",
      "Please Enter ending point's X-Cordinate and Y-cordinate....4,5\n",
      "Please Enter infinity point's X-Cordinate and Y-cordinate....6,7\n",
      "\n",
      ".................................\n",
      "Name: Sudhan Kandel \n",
      "Roll No: 2 \n",
      "Section: A\n",
      "\n",
      ".................................\n",
      "Starting point: \n",
      "X-Cordinate:  2 \n",
      "Y-Cordinate:  3\n",
      ".................................\n",
      "Ending point: \n",
      "X-Cordinate:  4 \n",
      "Y-Cordinate:  5\n",
      ".................................\n",
      "Infinity point: \n",
      "X-Cordinate:  6 \n",
      "Y-Cordinate:  7\n",
      "\n",
      ".................................\n",
      "data structure for given point is: [[2, 3], [4, 5], [6, 7]]\n"
     ]
    },
    {
     "data": {
      "image/png": "[encoded data removed]",
      "text/plain": [
       "<Figure size 540x252 with 1 Axes>"
      ]
     },
     "metadata": {
      "needs_background": "light"
     },
     "output_type": "display_data"
    }
   ],
   "source": [
    "from matplotlib import pyplot as plt\n",
    "class Ray:\n",
    "    @classmethod\n",
    "    def input_point(self):\n",
    "        points=[]\n",
    "        for i in ['starting','ending','infinity']:\n",
    "            x,y=input(\"Please Enter \"+i+\" point's X-Cordinate and Y-cordinate....\").split(',')\n",
    "            x=int(x)\n",
    "            y=int(y)\n",
    "            points.append([x,y])\n",
    "        point1=points[0]\n",
    "        point2=points[1]\n",
    "        point3=points[2]\n",
    "        self.checkcolinear(point1[0],point2[0],point3[0],point1[1],point2[1],point3[1])\n",
    "    @classmethod\n",
    "    def checkcolinear(self,x1,x2,x3,y1,y2,y3):\n",
    "        a = x1 * (y2 - y3) + x2 * (y3 - y1) + x3 * (y1 - y2)\n",
    "        if (a == 0):\n",
    "            self.displayinfo(x1,x2,x3,y1,y2,y3)\n",
    "            self.visualization(x1,x2,x3,y1,y2,y3)\n",
    "        else:\n",
    "            print(\"\\n.................................\")\n",
    "            print(\"Points are not cloinear please enter points again....\")\n",
    "            print(\"\\n.................................\")\n",
    "            self.input_point()\n",
    "    @classmethod\n",
    "    def displayinfo(self,x1,x2,x3,y1,y2,y3):\n",
    "        print(\"\\n.................................\")\n",
    "        print(\"Name: Sudhan Kandel\",\"\\nRoll No: 2\",\"\\nSection: A\")\n",
    "        print(\"\\n.................................\")\n",
    "        print(\"Starting point:\", \"\\nX-Cordinate: \",x1,\"\\nY-Cordinate: \",y1)\n",
    "        print(\".................................\")\n",
    "        print(\"Ending point:\", \"\\nX-Cordinate: \",x2,\"\\nY-Cordinate: \",y2)\n",
    "        print(\".................................\")\n",
    "        print(\"Infinity point:\", \"\\nX-Cordinate: \",x3,\"\\nY-Cordinate: \",y3)\n",
    "        print(\"\\n.................................\")\n",
    "        print(\"data structure for given point is:\",[[x1,y1],[x2,y2],[x3,y3]])\n",
    "    @classmethod\n",
    "    def visualization(self,x1,x2,x3,y1,y2,y3):\n",
    "        plt.rcParams[\"figure.figsize\"] = [7.50, 3.50]\n",
    "        plt.rcParams[\"figure.autolayout\"] = True\n",
    "        x_values=[x1,x2,x3]\n",
    "        y_values=[y1,y2,y3]\n",
    "        plt.grid()\n",
    "        plt.plot(x_values[0:2], y_values[0:2], linestyle=\"-\",color='green', marker=\"o\", markersize=5, markeredgecolor=\"red\", markerfacecolor=\"green\")\n",
    "        plt.plot(x_values[1:], y_values[1:], linestyle=\"--\" ,color='green')\n",
    "        plt.text(x1-0.015, y1+0.25, \"Start\")\n",
    "        plt.text(x2-0.050, y2-0.25, \"End\")\n",
    "        plt.title(\"Ray\",fontdict={'fontsize':20})\n",
    "        plt.xlabel(\"X-axis\",fontdict={'fontsize':15})\n",
    "        plt.ylabel(\"Y-axis\",fontdict={'fontsize':15})\n",
    "        plt.savefig('Ray.png')\n",
    "        plt.show()  \n",
    "Ray.input_point() "
   ]
  },
  {
   "cell_type": "markdown",
   "id": "11efa0d6",
   "metadata": {},
   "source": [
    "### Line"
   ]
  },
  {
   "cell_type": "code",
   "execution_count": 8,
   "id": "92df2f5c",
   "metadata": {},
   "outputs": [
    {
     "name": "stdout",
     "output_type": "stream",
     "text": [
      "Please Enter infinity point's X-Cordinate and Y-cordinate....2,3\n",
      "Please Enter starting point's X-Cordinate and Y-cordinate....5,3\n",
      "Please Enter ending point's X-Cordinate and Y-cordinate....6,3\n",
      "Please Enter infinity point's X-Cordinate and Y-cordinate....9,3\n",
      "\n",
      ".................................\n",
      "Name: Sudhan Kandel \n",
      "Roll No: 2 \n",
      "Section: A\n",
      "\n",
      ".................................\n",
      "Starting point: \n",
      "X-Cordinate:  2 \n",
      "Y-Cordinate:  3\n",
      ".................................\n",
      "Ending point: \n",
      "X-Cordinate:  5 \n",
      "Y-Cordinate:  3\n",
      ".................................\n",
      "Infinity point: \n",
      "X-Cordinate:  6 \n",
      "Y-Cordinate:  3\n",
      "\n",
      ".................................\n",
      "data structure for given point is: [[2, 3], [5, 3], [6, 3], [9, 3]]\n",
      "[6, 9] [3, 3]\n"
     ]
    },
    {
     "data": {
      "image/png": "[encoded data removed]",
      "text/plain": [
       "<Figure size 540x252 with 1 Axes>"
      ]
     },
     "metadata": {
      "needs_background": "light"
     },
     "output_type": "display_data"
    }
   ],
   "source": [
    "from matplotlib import pyplot as plt\n",
    "class Line:\n",
    "    @classmethod\n",
    "    def input_point(self):\n",
    "        points=[]\n",
    "        for i in ['infinity','starting','ending','infinity']:\n",
    "            x,y=input(\"Please Enter \"+i+\" point's X-Cordinate and Y-cordinate....\").split(',')\n",
    "            x=int(x)\n",
    "            y=int(y)\n",
    "            points.append([x,y])\n",
    "        point1=points[0]\n",
    "        point2=points[1]\n",
    "        point3=points[2]\n",
    "        point4=points[3]\n",
    "        self.checkcolinear(point1[0],point2[0],point3[0],point4[0],point1[1],point2[1],point3[1],point4[1])\n",
    "    @classmethod\n",
    "    def slope(self,x1,x2,y1,y2):\n",
    "        c=(y2-y1)/(x2-x1)\n",
    "        return c\n",
    "    @classmethod\n",
    "    def checkcolinear(self,x1,x2,x3,x4,y1,y2,y3,y4):\n",
    "        AB=self.slope(x1,x2,y1,y2)\n",
    "        BC=self.slope(x2,x3,y2,y3)\n",
    "        CD=self.slope(x3,x4,y3,y4)\n",
    "        AD=self.slope(x1,x4,y1,y4)\n",
    "        if (AB==BC==CD==AD):\n",
    "            self.displayinfo(x1,x2,x3,x4,y1,y2,y3,y4)\n",
    "            self.visualization(x1,x2,x3,x4,y1,y2,y3,y4)\n",
    "        else:\n",
    "            print(\"\\n.................................\")\n",
    "            print(\"Points are not cloinear please enter points again....\")\n",
    "            print(\"\\n.................................\")\n",
    "            self.input_point()\n",
    "    @classmethod\n",
    "    def displayinfo(self,x1,x2,x3,x4,y1,y2,y3,y4):\n",
    "        print(\"\\n.................................\")\n",
    "        print(\"Name: Sudhan Kandel\",\"\\nRoll No: 2\",\"\\nSection: A\")\n",
    "        print(\"\\n.................................\")\n",
    "        print(\"Starting point:\", \"\\nX-Cordinate: \",x1,\"\\nY-Cordinate: \",y1)\n",
    "        print(\".................................\")\n",
    "        print(\"Ending point:\", \"\\nX-Cordinate: \",x2,\"\\nY-Cordinate: \",y2)\n",
    "        print(\".................................\")\n",
    "        print(\"Infinity point:\", \"\\nX-Cordinate: \",x3,\"\\nY-Cordinate: \",y3)\n",
    "        print(\"\\n.................................\")\n",
    "        print(\"data structure for given point is:\",[[x1,y1],[x2,y2],[x3,y3],[x4,y4]])\n",
    "    @classmethod\n",
    "    def visualization(self,x1,x2,x3,x4,y1,y2,y3,y4):\n",
    "        plt.rcParams[\"figure.figsize\"] = [7.50, 3.50]\n",
    "        plt.rcParams[\"figure.autolayout\"] = True\n",
    "        x_values=[x1,x2,x3,x4]\n",
    "        y_values=[y1,y2,y3,y4]\n",
    "        print(x_values[2:], y_values[2:])\n",
    "        plt.grid()\n",
    "        plt.plot(x_values[1:3], y_values[1:3], linestyle=\"-\",color='green', marker=\"o\", markersize=5, markeredgecolor=\"red\", markerfacecolor=\"green\")\n",
    "        plt.plot(x_values[0:2], y_values[0:2], linestyle=\"--\" ,color='green')\n",
    "        plt.plot(x_values[2:], y_values[2:], linestyle=\"--\" ,color='green')\n",
    "        plt.title(\"Line\",fontdict={'fontsize':20})\n",
    "        plt.xlabel(\"X-axis\",fontdict={'fontsize':15})\n",
    "        plt.ylabel(\"Y-axis\",fontdict={'fontsize':15})\n",
    "        plt.savefig('Line.png')\n",
    "        plt.show()  \n",
    "Line.input_point()"
   ]
  },
  {
   "cell_type": "code",
   "execution_count": null,
   "id": "4d7b216f",
   "metadata": {},
   "outputs": [],
   "source": []
  }
 ],
 "metadata": {
  "kernelspec": {
   "display_name": "Python 3 (ipykernel)",
   "language": "python",
   "name": "python3"
  },
  "language_info": {
   "codemirror_mode": {
    "name": "ipython",
    "version": 3
   },
   "file_extension": ".py",
   "mimetype": "text/x-python",
   "name": "python",
   "nbconvert_exporter": "python",
   "pygments_lexer": "ipython3",
   "version": "3.9.7"
  }
 },
 "nbformat": 4,
 "nbformat_minor": 5
}

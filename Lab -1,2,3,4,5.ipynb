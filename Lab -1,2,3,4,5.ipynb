{
 "cells": [
  {
   "cell_type": "markdown",
   "id": "c2a8fe93",
   "metadata": {},
   "source": [
    "# Take a x and y cordinate from users"
   ]
  },
  {
   "cell_type": "code",
   "execution_count": 11,
   "id": "522dc453",
   "metadata": {},
   "outputs": [
    {
     "name": "stdout",
     "output_type": "stream",
     "text": [
      "Please Enter X-Cordinate....1\n",
      "Please Enter Y-Cordinate....3\n",
      "The given point is  [1, 3]\n"
     ]
    },
    {
     "data": {
      "image/png": "[encoded data removed]",
      "text/plain": [
       "<Figure size 504x360 with 1 Axes>"
      ]
     },
     "metadata": {
      "needs_background": "light"
     },
     "output_type": "display_data"
    }
   ],
   "source": [
    "from matplotlib import pyplot as plt\n",
    "class Point:\n",
    "    @classmethod\n",
    "    def input_point(self):\n",
    "        x=int(input(\"Please Enter X-Cordinate....\"))\n",
    "        y=int(input(\"Please Enter Y-Cordinate....\"))\n",
    "        print(\"The given point is \",(x,y))\n",
    "        return(x,y)\n",
    "    @classmethod\n",
    "    def display(self):\n",
    "        x,y=self.input_point()\n",
    "        plt.title(\"User's point in a graph\",fontdict={'fontsize':20})\n",
    "        plt.xlabel(\"X-axis\",fontdict={'fontsize':15})\n",
    "        plt.ylabel(\"Y-axis\",fontdict={'fontsize':15})\n",
    "        plt.rcParams[\"figure.figsize\"] = [7.00,5.00]\n",
    "        plt.rcParams[\"figure.autolayout\"] = True\n",
    "        plt.xlim(0,x+2)\n",
    "        plt.ylim(0,y+2)\n",
    "        plt.grid()\n",
    "        plt.plot(x, y, marker=\"o\", markersize=20, markeredgecolor=\"red\", markerfacecolor=\"green\")\n",
    "        plt.savefig(\"Point.png\")\n",
    "        plt.show()\n",
    "Point.display()    "
   ]
  },
  {
   "cell_type": "markdown",
   "id": "05f9e685",
   "metadata": {},
   "source": [
    "# Take two point  from users "
   ]
  },
  {
   "cell_type": "code",
   "execution_count": 12,
   "id": "b827f81d",
   "metadata": {},
   "outputs": [
    {
     "name": "stdout",
     "output_type": "stream",
     "text": [
      "Please Enter X-Cordinate and Y-cordinate....1 4\n",
      "Please Enter X-Cordinate and Y-cordinate....6 4\n",
      "[[1, 4], [6, 4]]\n"
     ]
    },
    {
     "data": {
      "image/png": "[encoded data removed]",
      "text/plain": [
       "<Figure size 540x252 with 1 Axes>"
      ]
     },
     "metadata": {
      "needs_background": "light"
     },
     "output_type": "display_data"
    }
   ],
   "source": [
    "from matplotlib import pyplot as plt\n",
    "class Line:\n",
    "    @classmethod\n",
    "    def input_point(self):\n",
    "        points=[]\n",
    "        for i in range(2):\n",
    "            x,y=input(\"Please Enter X-Cordinate and Y-cordinate....\").split()\n",
    "            x=int(x)\n",
    "            y=int(y)\n",
    "            points.append([x,y])\n",
    "        print(points)\n",
    "        return points\n",
    "    @classmethod\n",
    "    def visualization(self):\n",
    "        plt.rcParams[\"figure.figsize\"] = [7.50, 3.50]\n",
    "        plt.rcParams[\"figure.autolayout\"] = True\n",
    "        point=self.input_point()\n",
    "        point1=point[0]\n",
    "        point2=point[1]\n",
    "        x_values = [point1[0], point2[0]]\n",
    "        y_values = [point1[1], point2[1]]\n",
    "        plt.grid()\n",
    "        plt.xlim(0,max(x_values)+2)\n",
    "        plt.ylim(0,max(y_values)+2)\n",
    "        plt.plot(x_values, y_values, linestyle=\"--\", marker=\"o\", markersize=5, markeredgecolor=\"red\", markerfacecolor=\"green\")\n",
    "        plt.text(point1[0]-0.015, point1[1]+0.25, \"Start\")\n",
    "        plt.text(point2[0]-0.050, point2[1]-0.25, \"End\")\n",
    "        plt.title(\"user provided two point in a graph\",fontdict={'fontsize':20})\n",
    "        plt.xlabel(\"X-axis\",fontdict={'fontsize':15})\n",
    "        plt.ylabel(\"Y-axis\",fontdict={'fontsize':15})\n",
    "        plt.savefig('line.png')\n",
    "        plt.show()\n",
    "        \n",
    "Line.visualization()   "
   ]
  },
  {
   "cell_type": "code",
   "execution_count": 1,
   "id": "5d5aa4fc",
   "metadata": {},
   "outputs": [
    {
     "ename": "SyntaxError",
     "evalue": "invalid syntax (2044770846.py, line 22)",
     "output_type": "error",
     "traceback": [
      "\u001b[0;36m  File \u001b[0;32m\"/var/folders/dd/21_xynmd0yb0fq9p3j2y1_wm0000gn/T/ipykernel_930/2044770846.py\"\u001b[0;36m, line \u001b[0;32m22\u001b[0m\n\u001b[0;31m    elif:\u001b[0m\n\u001b[0m        ^\u001b[0m\n\u001b[0;31mSyntaxError\u001b[0m\u001b[0;31m:\u001b[0m invalid syntax\n"
     ]
    }
   ],
   "source": [
    "from matplotlib import pyplot as plt\n",
    "class Linesegment:\n",
    "    def __init__(self):\n",
    "        self.points=[]\n",
    "        for i in ['starting','ending','testing']:\n",
    "            x,y=input(\"Please Enter \"+i+\" point's X-Cordinate and Y-cordinate....\").split()\n",
    "            x=int(x)\n",
    "            y=int(y)\n",
    "            self.points.append([x,y])\n",
    "    def displayinfo(self):\n",
    "        print(self.points)\n",
    "        print(\"Starting point:\", \"\\nX-Cordinate: \",self.points[0][0],\"\\nY-Cordinate: \",self.points[0][1])\n",
    "        print(\".................................\")\n",
    "        print(\"Ending point:\", \"\\nX-Cordinate: \",self.points[1][0],\"\\nY-Cordinate: \",self.points[1][1])\n",
    "        print(\".................................\")\n",
    "        print(\"Testing point:\", \"\\nX-Cordinate: \",self.points[2][0],\"\\nY-Cordinate: \",self.points[2][1])\n",
    "        print(\".............Checking Result....................\")\n",
    "        if self.points[0][0]==self.points[2][0] and self.points[0][1]==self.points[2][1]:\n",
    "            print(\"Testing point is starting point\")\n",
    "        elif self.points[1][0]==self.points[2][0] and self.points[1][1]==self.points[2][1]:\n",
    "            print(\"Testing point is ending point\")\n",
    "        elif:\n",
    "            pass\n",
    "        elif:\n",
    "            pass\n",
    "        elif:\n",
    "            pass\n",
    "            print(\"Point is lies outside the range\")\n",
    "    def visualization(self):\n",
    "        plt.rcParams[\"figure.figsize\"] = [7.50, 3.50]\n",
    "        plt.rcParams[\"figure.autolayout\"] = True\n",
    "        start=self.points[0]\n",
    "        end=self.points[1]\n",
    "        testing=self.points[2]\n",
    "        x_values = [start[0], end[0]]\n",
    "        y_values = [start[1], end[1]]\n",
    "       \n",
    "        plt.grid()\n",
    "        plt.xlim(0,max(x_values)+2)\n",
    "        plt.ylim(0,max(y_values)+2)\n",
    "        plt.plot(x_values, y_values, linestyle=\"--\", marker=\"o\", markersize=5, markeredgecolor=\"red\", markerfacecolor=\"green\")\n",
    "        plt.plot(testing[0],testing[1] ,marker=\"o\", markersize=5, markeredgecolor=\"red\", markerfacecolor=\"blue\")\n",
    "        plt.text(start[0]-0.015, start[1]+0.25, \"Start\")\n",
    "        plt.text(end[0]-0.050, end[1]-0.25, \"End\")\n",
    "        plt.text(testing[0]-0.050, testing[1]-0.25, \"Test\")\n",
    "        plt.title(\"user provided two point in a graph\",fontdict={'fontsize':20})\n",
    "        plt.xlabel(\"X-axis\",fontdict={'fontsize':15})\n",
    "        plt.ylabel(\"Y-axis\",fontdict={'fontsize':15})\n",
    "        plt.savefig('line.png')\n",
    "        plt.show()\n",
    "        \n",
    "line1=Linesegment()\n",
    "line1.displayinfo()\n",
    "line1.visualization()"
   ]
  },
  {
   "cell_type": "markdown",
   "id": "39b89592",
   "metadata": {},
   "source": [
    "# Left turn and Right Turn"
   ]
  },
  {
   "cell_type": "code",
   "execution_count": 2,
   "id": "183bf094",
   "metadata": {},
   "outputs": [],
   "source": [
    "import matplotlib.pyplot as plt\n",
    "class Turntest:\n",
    "     pass\n",
    "    "
   ]
  },
  {
   "cell_type": "code",
   "execution_count": null,
   "id": "d8f50e06",
   "metadata": {},
   "outputs": [],
   "source": []
  }
 ],
 "metadata": {
  "kernelspec": {
   "display_name": "Python 3 (ipykernel)",
   "language": "python",
   "name": "python3"
  },
  "language_info": {
   "codemirror_mode": {
    "name": "ipython",
    "version": 3
   },
   "file_extension": ".py",
   "mimetype": "text/x-python",
   "name": "python",
   "nbconvert_exporter": "python",
   "pygments_lexer": "ipython3",
   "version": "3.9.7"
  }
 },
 "nbformat": 4,
 "nbformat_minor": 5
}

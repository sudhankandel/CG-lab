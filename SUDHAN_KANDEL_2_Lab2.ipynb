{
 "cells": [
  {
   "cell_type": "markdown",
   "id": "9df86b8e",
   "metadata": {},
   "source": [
    "# Name: Sudhan Kandel\n",
    "# Section: A\n",
    "# Roll No: 2"
   ]
  },
  {
   "cell_type": "markdown",
   "id": "1d2779c5",
   "metadata": {},
   "source": [
    "## 1.\tWrite programs for Implementation of Polygon."
   ]
  },
  {
   "cell_type": "code",
   "execution_count": 1,
   "id": "9107fbb0",
   "metadata": {},
   "outputs": [
    {
     "name": "stdout",
     "output_type": "stream",
     "text": [
      "Please Enter the number of vertices4\n",
      "Please Enter X and Y cordinate1,0\n",
      "Please Enter X and Y cordinate4,0\n",
      "Please Enter X and Y cordinate4,4\n",
      "Please Enter X and Y cordinate1,4\n",
      "\n",
      ".................................\n",
      "Name: Sudhan Kandel \n",
      "Roll No: 2 \n",
      "Section: A\n",
      "\n",
      ".................................\n",
      "Vetrices of the polygons is: \n",
      "[1, 0]\n",
      "Vetrices of the polygons is: \n",
      "[4, 0]\n",
      "Vetrices of the polygons is: \n",
      "[4, 4]\n",
      "Vetrices of the polygons is: \n",
      "[1, 4]\n"
     ]
    },
    {
     "data": {
      "image/png": "[encoded data removed]",
      "text/plain": [
       "<Figure size 432x288 with 1 Axes>"
      ]
     },
     "metadata": {
      "needs_background": "light"
     },
     "output_type": "display_data"
    }
   ],
   "source": [
    "import matplotlib.pyplot as plt\n",
    "\n",
    "class Node:    \n",
    "    def __init__(self,data):    \n",
    "        self.data = data;    \n",
    "        self.previous = None;    \n",
    "        self.next = None;    \n",
    "            \n",
    "class DoublyLinkedList:       \n",
    "    def __init__(self):    \n",
    "        self.head = None;    \n",
    "        self.tail = None;      \n",
    "    def addNode(self, data):      \n",
    "        newNode = Node(data);     \n",
    "        if(self.head == None):      \n",
    "            self.head = self.tail = newNode;        \n",
    "            self.head.previous = None;    \n",
    "            self.tail.next = None;    \n",
    "        else:      \n",
    "            self.tail.next = newNode;       \n",
    "            newNode.previous = self.tail;      \n",
    "            self.tail = newNode;    \n",
    "            self.tail.next = None;                   \n",
    "class Polygon(DoublyLinkedList):\n",
    "    def __init__(self):\n",
    "        super(Polygon, self).__init__()\n",
    "        number_of_vertices=int(input(\"Please Enter the number of vertices\"))\n",
    "        \n",
    "        for i in range(number_of_vertices):\n",
    "            x,y=input(\"Please Enter X and Y cordinate\").split(',')\n",
    "            x=int(x)\n",
    "            y=int(y)\n",
    "            self.addNode([x,y])\n",
    "    def dislpay(self):\n",
    "        print(\"\\n.................................\")\n",
    "        print(\"Name: Sudhan Kandel\",\"\\nRoll No: 2\",\"\\nSection: A\")\n",
    "        print(\"\\n.................................\")\n",
    "        current=self.head\n",
    "        if(self.head==None):\n",
    "            print(\"List is empty\")\n",
    "            return\n",
    "        while(current!=None):\n",
    "            print(\"Vetrices of the polygons is: \")\n",
    "            print(current.data)\n",
    "            current=current.next\n",
    "    def visualization(self):\n",
    "        self.dislpay()\n",
    "        cur = self.head; \n",
    "        while cur:\n",
    "            a=cur.data\n",
    "            cur=cur.next\n",
    "            if cur==None:\n",
    "                cur1=self.head\n",
    "                while cur1:\n",
    "                    b=cur1.data\n",
    "                    break\n",
    "            else:\n",
    "                b=cur.data\n",
    "            plt.plot([a[0],b[0]],[a[1],b[1]], linestyle=\"-\", marker=\"o\", markersize=5, markeredgecolor=\"red\", markerfacecolor=\"green\")\n",
    "            plt.title(\"Display Polygon\",fontdict={'fontsize':20})\n",
    "pol=Polygon()\n",
    "pol.visualization()\n",
    "\n"
   ]
  },
  {
   "cell_type": "markdown",
   "id": "7b2bab95",
   "metadata": {},
   "source": [
    "## 2.\tWrite a program for Implementation of Turn Test (Left, Right and Collinear) "
   ]
  },
  {
   "cell_type": "code",
   "execution_count": 2,
   "id": "c172007d",
   "metadata": {},
   "outputs": [
    {
     "name": "stdout",
     "output_type": "stream",
     "text": [
      "Please Enter starting point's X-Cordinate and Y-cordinate....1,3\n",
      "Please Enter ending point's X-Cordinate and Y-cordinate....4,5\n",
      "Please Enter testing point's X-Cordinate and Y-cordinate....6,2\n",
      "Starting point: \n",
      "X-Cordinate:  1 \n",
      "Y-Cordinate:  3\n",
      ".................................\n",
      "Ending point: \n",
      "X-Cordinate:  4 \n",
      "Y-Cordinate:  5\n",
      ".................................\n",
      "Testing point: \n",
      "X-Cordinate:  6 \n",
      "Y-Cordinate:  2\n",
      ".............Checking Result....................\n",
      "the given test point is:  Right Turn\n"
     ]
    },
    {
     "data": {
      "image/png": "[encoded data removed]",
      "text/plain": [
       "<Figure size 540x252 with 1 Axes>"
      ]
     },
     "metadata": {
      "needs_background": "light"
     },
     "output_type": "display_data"
    }
   ],
   "source": [
    "import matplotlib.pyplot as plt\n",
    "class Turntest:\n",
    "    def __init__(self):\n",
    "        self.points=[]\n",
    "        for i in ['starting','ending','testing']:\n",
    "            x,y=input(\"Please Enter \"+i+\" point's X-Cordinate and Y-cordinate....\").split(\",\")\n",
    "            x=int(x)\n",
    "            y=int(y)\n",
    "            self.points.append([x,y])\n",
    "    def checkturn(self):\n",
    "        area=(self.points[1][0]-self.points[0][0])*(self.points[2][1]-self.points[0][1])-(self.points[2][0]-self.points[0][0])*(self.points[1][1]-self.points[0][1])\n",
    "        if area>0:\n",
    "            return \"Left Turn\"\n",
    "        elif area<0:\n",
    "            return \"Right Turn\"\n",
    "        else:\n",
    "            return \"Colinear\"\n",
    "    def displayinfo(self):\n",
    "        print(\"Starting point:\", \"\\nX-Cordinate: \",self.points[0][0],\"\\nY-Cordinate: \",self.points[0][1])\n",
    "        print(\".................................\")\n",
    "        print(\"Ending point:\", \"\\nX-Cordinate: \",self.points[1][0],\"\\nY-Cordinate: \",self.points[1][1])\n",
    "        print(\".................................\")\n",
    "        print(\"Testing point:\", \"\\nX-Cordinate: \",self.points[2][0],\"\\nY-Cordinate: \",self.points[2][1])\n",
    "        print(\".............Checking Result....................\")\n",
    "        print(\"the given test point is: \",self.checkturn())\n",
    "        \n",
    "    def visualization(self):\n",
    "        plt.rcParams[\"figure.figsize\"] = [7.50, 3.50]\n",
    "        plt.rcParams[\"figure.autolayout\"] = True\n",
    "        start=self.points[0]\n",
    "        end=self.points[1]\n",
    "        testing=self.points[2]\n",
    "        x_values = [start[0], end[0],testing[0],end[0]+4]\n",
    "        y_values = [start[1], end[1],testing[1],end[1]*1.25]\n",
    "        plt.grid()\n",
    "        plt.xlim(0,max(x_values)+2)\n",
    "        plt.ylim(0,max(y_values)+2)\n",
    "        plt.plot(x_values[:-1], y_values[:-1], linestyle=\"-\", marker=\"o\", markersize=5, markeredgecolor=\"red\", markerfacecolor=\"green\")\n",
    "        plt.text(start[0]-0.015, start[1]+0.25, \"Start\")\n",
    "        plt.text(end[0]-0.050, end[1]-0.25, \"End\")\n",
    "        plt.text(testing[0]-0.050, testing[1]-0.25, \"Test\")\n",
    "        plt.title(\"Turn Test Display\",fontdict={'fontsize':20})\n",
    "        plt.xlabel(\"X-axis\",fontdict={'fontsize':15})\n",
    "        plt.ylabel(\"Y-axis\",fontdict={'fontsize':15})\n",
    "        plt.savefig('line.png')\n",
    "        plt.show()\n",
    "turn=Turntest()\n",
    "turn.displayinfo()\n",
    "turn.visualization()"
   ]
  },
  {
   "cell_type": "markdown",
   "id": "5ede5b77",
   "metadata": {},
   "source": [
    "## 3.\tWrite a program for Checking whether polygon created in Q1. is convex or not. "
   ]
  },
  {
   "cell_type": "code",
   "execution_count": 2,
   "id": "2ef3d83e",
   "metadata": {},
   "outputs": [
    {
     "name": "stdout",
     "output_type": "stream",
     "text": [
      "Please Enter the number of vertices4\n",
      "Please Enter X and Y cordinate1,0\n",
      "Please Enter X and Y cordinate4,0\n",
      "Please Enter X and Y cordinate4,4\n",
      "Please Enter X and Y cordinate1,4\n",
      "\n",
      ".................................\n",
      "Name: Sudhan Kandel \n",
      "Roll No: 2 \n",
      "Section: A\n",
      "\n",
      ".................................\n",
      "Vetrices of the polygons is: \n",
      "[1, 0]\n",
      "Vetrices of the polygons is: \n",
      "[4, 0]\n",
      "Vetrices of the polygons is: \n",
      "[4, 4]\n",
      "Vetrices of the polygons is: \n",
      "[1, 4]\n",
      ".............Checking Result....................\n",
      "Turn Test Result is:  ['Left', 'Left', 'Left']\n",
      "Given Polygon is Convex\n"
     ]
    },
    {
     "data": {
      "image/png": "[encoded data removed]",
      "text/plain": [
       "<Figure size 432x288 with 1 Axes>"
      ]
     },
     "metadata": {
      "needs_background": "light"
     },
     "output_type": "display_data"
    }
   ],
   "source": [
    "import matplotlib.pyplot as plt\n",
    "class Node:    \n",
    "    def __init__(self,data):    \n",
    "        self.data = data;    \n",
    "        self.previous = None;    \n",
    "        self.next = None;    \n",
    "            \n",
    "class DoublyLinkedList:       \n",
    "    def __init__(self):    \n",
    "        self.head = None;    \n",
    "        self.tail = None;      \n",
    "    def addNode(self, data):      \n",
    "        newNode = Node(data);     \n",
    "        if(self.head == None):      \n",
    "            self.head = self.tail = newNode;        \n",
    "            self.head.previous = None;    \n",
    "            self.tail.next = None;    \n",
    "        else:      \n",
    "            self.tail.next = newNode;       \n",
    "            newNode.previous = self.tail;      \n",
    "            self.tail = newNode;    \n",
    "            self.tail.next = None;                   \n",
    "class Polygon(DoublyLinkedList):\n",
    "    def __init__(self):\n",
    "        super(Polygon, self).__init__()\n",
    "        number_of_vertices=int(input(\"Please Enter the number of vertices\"))\n",
    "        \n",
    "        for i in range(number_of_vertices):\n",
    "            x,y=input(\"Please Enter X and Y cordinate\").split(',')\n",
    "            x=int(x)\n",
    "            y=int(y)\n",
    "            self.addNode([x,y])\n",
    "    def turntest(self,points):\n",
    "        area=(points[1][0]-points[0][0])*(points[2][1]-points[0][1])-(points[2][0]-points[0][0])*(points[1][1]-points[0][1])\n",
    "        if area>0:\n",
    "            return \"Left\"\n",
    "        elif area<0:\n",
    "            return \"Right\"\n",
    "        else:\n",
    "            return \"Colinear\"\n",
    "    def checkconvex(self):\n",
    "        turn=[]\n",
    "        cur=self.head\n",
    "        while cur:\n",
    "            if cur==None:\n",
    "                cur1=self.head\n",
    "                while cur1:\n",
    "                    a=cur1.data\n",
    "                    cur1=cur1.next\n",
    "                    b=cur1.data\n",
    "                    cur1=cur1.next\n",
    "                    c=cur1.data\n",
    "                    break\n",
    "            else:\n",
    "                a=cur.data\n",
    "                cur=cur.next\n",
    "                b=cur.data\n",
    "                cur=cur.next\n",
    "                if cur==None:\n",
    "                    cur2=self.head\n",
    "                    while cur2:\n",
    "                        c=cur2.data\n",
    "                        break\n",
    "                else:\n",
    "                    c=cur.data\n",
    "                    cur=cur.previous\n",
    "                turn.append(self.turntest([a,b,c]))\n",
    "        return turn\n",
    "           \n",
    "    def dislpay(self):\n",
    "        print(\"\\n.................................\")\n",
    "        print(\"Name: Sudhan Kandel\",\"\\nRoll No: 2\",\"\\nSection: A\")\n",
    "        print(\"\\n.................................\")\n",
    "        current=self.head\n",
    "        if(self.head==None):\n",
    "            print(\"List is empty\")\n",
    "            return\n",
    "        while(current!=None):\n",
    "            print(\"Vetrices of the polygons is: \")\n",
    "            print(current.data)\n",
    "            current=current.next\n",
    "        print(\".............Checking Result....................\")\n",
    "        \n",
    "        print(\"Turn Test Result is: \",self.checkconvex())\n",
    "        List=self.checkconvex()\n",
    "        result = all(element == List[0] for element in List)\n",
    "        if (result):\n",
    "            print(\"Given Polygon is Convex\")\n",
    "        else:\n",
    "            print(\"Given Polygon is not Convex\")\n",
    "    def visualization(self):\n",
    "        self.dislpay()\n",
    "        cur = self.head; \n",
    "        while cur:\n",
    "            a=cur.data\n",
    "            cur=cur.next\n",
    "            if cur==None:\n",
    "                cur1=self.head\n",
    "                while cur1:\n",
    "                    b=cur1.data\n",
    "                    break\n",
    "            else:\n",
    "                b=cur.data\n",
    "            plt.plot([a[0],b[0]],[a[1],b[1]], linestyle=\"-\", marker=\"o\", markersize=5, markeredgecolor=\"red\", markerfacecolor=\"green\")\n",
    "            plt.title(\"Display Polygon\",fontdict={'fontsize':20})\n",
    "pol=Polygon()\n",
    "pol.visualization()"
   ]
  },
  {
   "cell_type": "markdown",
   "id": "9785ebb0",
   "metadata": {},
   "source": []
  }
 ],
 "metadata": {
  "kernelspec": {
   "display_name": "Python 3 (ipykernel)",
   "language": "python",
   "name": "python3"
  },
  "language_info": {
   "codemirror_mode": {
    "name": "ipython",
    "version": 3
   },
   "file_extension": ".py",
   "mimetype": "text/x-python",
   "name": "python",
   "nbconvert_exporter": "python",
   "pygments_lexer": "ipython3",
   "version": "3.9.7"
  }
 },
 "nbformat": 4,
 "nbformat_minor": 5
}
